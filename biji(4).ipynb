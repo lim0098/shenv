{
 "cells": [
  {
   "attachments": {},
   "cell_type": "markdown",
   "metadata": {},
   "source": [
    "修改国内镜像源\n",
    "\n",
    "    Windows上通配置文件修改方法\n",
    "    需要在当前对用户目录下（C:\\Users\\xx\\pip，xx 表示当前使用的系统用户）创建一个 pip.ini在pip.ini文件中输入以下内容：\n",
    "    [global]\n",
    "    index-url = https://pypi.tuna.tsinghua.edu.cn/simple\n",
    "    [install]\n",
    "    trusted-host = pypi.tuna.tsinghua.edu.cn\n",
    "    通过pip config list命令查看配置是否修改成功\n",
    "    上面目录不对，导致源失败\n",
    "    通过命令\n",
    "    pip config set global.index-url https://pypi.tuna.tsinghua.edu.cn/simple"
   ]
  },
  {
   "cell_type": "code",
   "execution_count": null,
   "metadata": {
    "vscode": {
     "languageId": "powershell"
    }
   },
   "outputs": [],
   "source": [
    "pip config set global.index-url https://pypi.tuna.tsinghua.edu.cn/simple"
   ]
  },
  {
   "attachments": {},
   "cell_type": "markdown",
   "metadata": {},
   "source": [
    "创建虚拟环境\n",
    "    命令环境下"
   ]
  },
  {
   "cell_type": "code",
   "execution_count": null,
   "metadata": {
    "vscode": {
     "languageId": "powershell"
    }
   },
   "outputs": [],
   "source": [
    "python -m venv F:\\learn\\mysite\\myenvweb01\n",
    "python -m venv D:\\mysite\\myenvweb01"
   ]
  },
  {
   "attachments": {},
   "cell_type": "markdown",
   "metadata": {},
   "source": [
    "激活虚拟环境\n",
    "    进入虚拟环境目录下的Scripts目录\n",
    "    \n"
   ]
  },
  {
   "cell_type": "code",
   "execution_count": null,
   "metadata": {
    "vscode": {
     "languageId": "powershell"
    }
   },
   "outputs": [],
   "source": [
    "cd F:\\learn\\mysite\\myenvweb01\\Scripts\n",
    "activate"
   ]
  },
  {
   "attachments": {},
   "cell_type": "markdown",
   "metadata": {},
   "source": [
    "退出虚拟环境命令,\n"
   ]
  },
  {
   "cell_type": "code",
   "execution_count": null,
   "metadata": {
    "vscode": {
     "languageId": "powershell"
    }
   },
   "outputs": [],
   "source": [
    "deactivate"
   ]
  },
  {
   "attachments": {},
   "cell_type": "markdown",
   "metadata": {},
   "source": [
    "删除虚拟环境,\n",
    "    直接删除虚拟环境目录"
   ]
  },
  {
   "attachments": {},
   "cell_type": "markdown",
   "metadata": {},
   "source": [
    "进入虚拟环境,安装django"
   ]
  },
  {
   "cell_type": "code",
   "execution_count": null,
   "metadata": {
    "vscode": {
     "languageId": "powershell"
    }
   },
   "outputs": [],
   "source": [
    "cd F:\\learn\\mysite\\myenvweb01\\Scripts\n",
    "activate\n",
    "pip install django==3.2"
   ]
  },
  {
   "attachments": {},
   "cell_type": "markdown",
   "metadata": {},
   "source": [
    "创建django项目,在要创建项目的目录中运行下面命令"
   ]
  },
  {
   "cell_type": "code",
   "execution_count": null,
   "metadata": {
    "vscode": {
     "languageId": "powershell"
    }
   },
   "outputs": [],
   "source": [
    "    cd F:\\learn\\mysite\n",
    "    django-admin startproject mywebsite01"
   ]
  },
  {
   "attachments": {},
   "cell_type": "markdown",
   "metadata": {},
   "source": [
    "进入数据库， 密码1234，创建数据库mywebsite01，配置settings.py"
   ]
  },
  {
   "cell_type": "code",
   "execution_count": null,
   "metadata": {
    "vscode": {
     "languageId": "powershell"
    }
   },
   "outputs": [],
   "source": [
    "mysql -u root -p\n",
    "show databases;\n",
    "create database mywebsite01 default charset=utf8;"
   ]
  },
  {
   "attachments": {},
   "cell_type": "markdown",
   "metadata": {},
   "source": [
    "安装mysqlclient"
   ]
  },
  {
   "cell_type": "code",
   "execution_count": null,
   "metadata": {
    "vscode": {
     "languageId": "powershell"
    }
   },
   "outputs": [],
   "source": [
    "pip install mysqlclient"
   ]
  },
  {
   "attachments": {},
   "cell_type": "markdown",
   "metadata": {},
   "source": [
    "创建子应用,配置settings.py"
   ]
  },
  {
   "cell_type": "code",
   "execution_count": null,
   "metadata": {
    "vscode": {
     "languageId": "powershell"
    }
   },
   "outputs": [],
   "source": [
    "    cd F:\\learn\\mysite\\mywebsite01\n",
    "    python manage.py startapp users\n",
    "    python manage.py startapp statements\n",
    "    python manage.py runserver"
   ]
  },
  {
   "attachments": {},
   "cell_type": "markdown",
   "metadata": {},
   "source": [
    "安装djangorestframework,配置settings.py"
   ]
  },
  {
   "cell_type": "code",
   "execution_count": null,
   "metadata": {
    "vscode": {
     "languageId": "powershell"
    }
   },
   "outputs": [],
   "source": [
    "pip install djangorestframework"
   ]
  },
  {
   "attachments": {},
   "cell_type": "markdown",
   "metadata": {},
   "source": [
    "安装django-cors-headers跨域,配置settings.py"
   ]
  },
  {
   "cell_type": "code",
   "execution_count": null,
   "metadata": {
    "vscode": {
     "languageId": "powershell"
    }
   },
   "outputs": [],
   "source": [
    "pip install django-cors-headers\n",
    "python -m pip install Pillow"
   ]
  },
  {
   "attachments": {},
   "cell_type": "markdown",
   "metadata": {},
   "source": [
    "\n",
    "注册跨域'corsheaders'，\n",
    "\n",
    "配置中间件'corsheaders.middleware.CorsMiddleware',\n",
    "\n",
    "注释中间件'django.middleware.csrf.CsrfViewMiddleware',\n",
    "\n",
    "#允许所有的用户跨域请求\n",
    "CORS_ORIGIN_ALLOW_ALL=True\n",
    "\n",
    "修改语言\n",
    "LANGUAGE_CODE = 'zh-hans'\n",
    "\n",
    "修改时间\n",
    "TIME_ZONE = 'Asia/Shanghai'"
   ]
  },
  {
   "attachments": {},
   "cell_type": "markdown",
   "metadata": {},
   "source": [
    "修改django默认ip\n",
    "使用命令行方式启动项目，并以临时修改的方式设置端口号和 IP 地址。\n",
    "python manage.py runserver 0.0.0.0:8080\n",
    "\n",
    "通过修改 Django 项目中的 manage.py 文件来设置端口号和 IP 地址。\n",
    "需要配置settings \n",
    "ALLOWED_HOSTS = ['127.0.0.2']\n",
    "\n",
    "manage.py 文件中的 main 方法\n",
    "if __name__ == \"__main__\":  \n",
    "    from django.core.management.commands.runserver import Command as Runserver  \n",
    "    Runserver.default_addr = '0.0.0.0'  # 修改默认地址  \n",
    "    Runserver.default_port = '8080'  # 修改默认端口  \n",
    "    main()"
   ]
  },
  {
   "cell_type": "code",
   "execution_count": null,
   "metadata": {},
   "outputs": [],
   "source": [
    "# manage.py 文件中的 main 方法\n",
    "if __name__ == \"__main__\":  \n",
    "    from django.core.management.commands.runserver import Command as Runserver  \n",
    "    Runserver.default_addr = '0.0.0.0'  # 修改默认地址  \n",
    "    Runserver.default_port = '8080'  # 修改默认端口  \n",
    "    main()"
   ]
  },
  {
   "attachments": {},
   "cell_type": "markdown",
   "metadata": {},
   "source": [
    "自定义用户继承from django.contrib.auth.models import AbstractUser时，\n",
    "需要指定自定义用户类\n",
    "AUTH_USER_MODEL='users.User'\n"
   ]
  },
  {
   "attachments": {},
   "cell_type": "markdown",
   "metadata": {},
   "source": [
    "安装jwt认证，注册jwt,配置REST_FRAMEWORK\n",
    "配置settings.py\n",
    "    #设置token有效期\n",
    "\n",
    "安装过滤,并在settings配置'django_filters',\n",
    "指定过滤器\n",
    "REST_FRAMEWORK={\n",
    "    'DEFAULT_FILTER_BACKENDS':('django_filters.rest_framework.DjangoFilterBackend')\n",
    "}"
   ]
  },
  {
   "cell_type": "code",
   "execution_count": null,
   "metadata": {
    "vscode": {
     "languageId": "powershell"
    }
   },
   "outputs": [],
   "source": [
    "pip install djangorestframework-simplejwt\n",
    "pip install django-filter"
   ]
  },
  {
   "attachments": {},
   "cell_type": "markdown",
   "metadata": {},
   "source": [
    "配置settings.py如下"
   ]
  },
  {
   "cell_type": "code",
   "execution_count": null,
   "metadata": {},
   "outputs": [],
   "source": [
    "#mysite01.settings.py\n",
    "\"\"\"\n",
    "Django settings for mysite01 project.\n",
    "\n",
    "Generated by 'django-admin startproject' using Django 4.2.1.\n",
    "\n",
    "For more information on this file, see\n",
    "https://docs.djangoproject.com/en/4.2/topics/settings/\n",
    "\n",
    "For the full list of settings and their values, see\n",
    "https://docs.djangoproject.com/en/4.2/ref/settings/\n",
    "\"\"\"\n",
    "\n",
    "from pathlib import Path\n",
    "from datetime import timedelta\n",
    "\n",
    "# Build paths inside the project like this: BASE_DIR / 'subdir'.\n",
    "BASE_DIR = Path(__file__).resolve().parent.parent\n",
    "\n",
    "\n",
    "# Quick-start development settings - unsuitable for production\n",
    "# See https://docs.djangoproject.com/en/4.2/howto/deployment/checklist/\n",
    "\n",
    "# SECURITY WARNING: keep the secret key used in production secret!\n",
    "SECRET_KEY = \"django-insecure-r9!=tsrdn=m38to0yxo2d5oqet&28_f0y#5+3_=tg2m)6ng86=\"\n",
    "\n",
    "# SECURITY WARNING: don't run with debug turned on in production!\n",
    "DEBUG = True\n",
    "\n",
    "ALLOWED_HOSTS = []\n",
    "\n",
    "\n",
    "# Application definition\n",
    "\n",
    "INSTALLED_APPS = [\n",
    "    \"django.contrib.admin\",\n",
    "    \"django.contrib.auth\",\n",
    "    \"django.contrib.contenttypes\",\n",
    "    \"django.contrib.sessions\",\n",
    "    \"django.contrib.messages\",\n",
    "    \"django.contrib.staticfiles\",\n",
    "    'rest_framework_simplejwt',\n",
    "    'django_filters',\n",
    "    'rest_framework',\n",
    "    'corsheaders',\n",
    "    'users',\n",
    "    \"statements\",\n",
    "]\n",
    "\n",
    "MIDDLEWARE = [\n",
    "    #配置跨域\n",
    "    'corsheaders.middleware.CorsMiddleware',\n",
    "    \"django.middleware.security.SecurityMiddleware\",\n",
    "    \"django.contrib.sessions.middleware.SessionMiddleware\",\n",
    "    \"django.middleware.common.CommonMiddleware\",\n",
    "    # \"django.middleware.csrf.CsrfViewMiddleware\",\n",
    "    \"django.contrib.auth.middleware.AuthenticationMiddleware\",\n",
    "    \"django.contrib.messages.middleware.MessageMiddleware\",\n",
    "    \"django.middleware.clickjacking.XFrameOptionsMiddleware\",\n",
    "    # \"users.middlewares.rabc.RabcMiddleware\",\n",
    "]\n",
    "\n",
    "ROOT_URLCONF = \"mysite01.urls\"\n",
    "\n",
    "TEMPLATES = [\n",
    "    {\n",
    "        \"BACKEND\": \"django.template.backends.django.DjangoTemplates\",\n",
    "        \"DIRS\": [],\n",
    "        \"APP_DIRS\": True,\n",
    "        \"OPTIONS\": {\n",
    "            \"context_processors\": [\n",
    "                \"django.template.context_processors.debug\",\n",
    "                \"django.template.context_processors.request\",\n",
    "                \"django.contrib.auth.context_processors.auth\",\n",
    "                \"django.contrib.messages.context_processors.messages\",\n",
    "            ],\n",
    "        },\n",
    "    },\n",
    "]\n",
    "\n",
    "WSGI_APPLICATION = \"mysite01.wsgi.application\"\n",
    "\n",
    "\n",
    "# Database\n",
    "# https://docs.djangoproject.com/en/4.2/ref/settings/#databases\n",
    "\n",
    "DATABASES = {\n",
    "    \"default\": {\n",
    "        #配置数据库\n",
    "        # 'ENGINE': 'django.db.backends.sqlite3',\n",
    "        # 'NAME': BASE_DIR / 'db.sqlite3',\n",
    "        'ENGINE': 'django.db.backends.mysql',\n",
    "        'HOST':'127.0.0.1',\n",
    "        'PORT':'3306',\n",
    "        'USER':'root',\n",
    "        'PASSWORD':'1234',\n",
    "        'NAME': 'mywebsite01',\n",
    "    }\n",
    "}\n",
    "\n",
    "\n",
    "# Password validation\n",
    "# https://docs.djangoproject.com/en/4.2/ref/settings/#auth-password-validators\n",
    "\n",
    "AUTH_PASSWORD_VALIDATORS = [\n",
    "    {\n",
    "        \"NAME\": \"django.contrib.auth.password_validation.UserAttributeSimilarityValidator\",\n",
    "    },\n",
    "    {\"NAME\": \"django.contrib.auth.password_validation.MinimumLengthValidator\",},\n",
    "    {\"NAME\": \"django.contrib.auth.password_validation.CommonPasswordValidator\",},\n",
    "    {\"NAME\": \"django.contrib.auth.password_validation.NumericPasswordValidator\",},\n",
    "]\n",
    "\n",
    "\n",
    "# Internationalization\n",
    "# https://docs.djangoproject.com/en/4.2/topics/i18n/\n",
    "\n",
    "# LANGUAGE_CODE = 'en-us'\n",
    "LANGUAGE_CODE = 'zh-hans'\n",
    "# 修改时间\n",
    "TIME_ZONE = 'Asia/Shanghai'\n",
    "# TIME_ZONE = 'UTC'\n",
    "\n",
    "USE_I18N = True\n",
    "\n",
    "USE_TZ = True\n",
    "\n",
    "\n",
    "# Static files (CSS, JavaScript, Images)\n",
    "# https://docs.djangoproject.com/en/4.2/howto/static-files/\n",
    "\n",
    "STATIC_URL = \"static/\"\n",
    "\n",
    "# Default primary key field type\n",
    "# https://docs.djangoproject.com/en/4.2/ref/settings/#default-auto-field\n",
    "\n",
    "DEFAULT_AUTO_FIELD = \"django.db.models.BigAutoField\"\n",
    "\n",
    "#允许所有的用户跨域请求\n",
    "CORS_ORIGIN_ALLOW_ALL=True\n",
    "# 指定自定义用户类\n",
    "AUTH_USER_MODEL='users.User'\n",
    "\n",
    "REST_FRAMEWORK={\n",
    "    #jwt认证\n",
    "    'DEFAULT_AUTHENTICATION_CLASSES':(\n",
    "        'rest_framework_simplejwt.authentication.JWTAuthentication',\n",
    "        'rest_framework.authentication.SessionAuthentication',\n",
    "        'rest_framework.authentication.BasicAuthentication',\n",
    "    ),\n",
    "    'DEFAULT_FILTER_BACKENDS':(\n",
    "        'django_filters.rest_framework.DjangoFilterBackend',\n",
    "    )\n",
    "}\n",
    "#设置token有效期\n",
    "SIMPLE_JWT={\n",
    "    'ACCESS_TOKEN_LIFETIME': timedelta(minutes=50),   # 设置token有效时间\n",
    "    # 'ACCESS_TOKEN_LIFETIME': timedelta(days=7),   # 设置token有效时间\n",
    "    'REFRESH_TOKEN_LIFETIME': timedelta(days=7),  # 刷新token有效时间\n",
    "    'ROTATE_REFRESH_TOKENS': False,\n",
    "    'BLACKLIST_AFTER_ROTATION': False,\n",
    "    # 'UPDATE_LAST_LOGIN': False,  # 设置为True会在用户登录时，更新user表中的last_login字段\n",
    "\n",
    "    'ALGORITHM': 'HS256',  # 加密算法\n",
    "    # 'SIGNING_KEY': settings.SECRET_KEY,  # 签名密钥\n",
    "    'SIGNING_KEY': SECRET_KEY,  # 签名密钥\n",
    "    'VERIFYING_KEY': None,  # 验证密钥，用于验证生成令牌的内容\n",
    "    'AUDIENCE': None,  # 设置为None时，此字段将从token中排除，并且不会进行验证\n",
    "    'ISSUER': None,  # 设置为None时，此字段将从token中排除，并且不会进行验证\n",
    "    # 'JWK_URL': None,  # 设置为None时，此字段将从token中排除，并且在验证期间不使用\n",
    "    # 'LEEWAY': 0,  # 用来给到期时间留一些余地\n",
    "\n",
    "    'AUTH_HEADER_TYPES': ('Bearer',),  # 认证的标签头，类似jwt token中的jwt\n",
    "    'AUTH_HEADER_NAME': 'HTTP_AUTHORIZATION',  # 身份验证的授权标头名称\n",
    "    'USER_ID_FIELD': 'id',\n",
    "    'USER_ID_CLAIM': 'user_id',  # 生成token中声明将用于存储用户标识符\n",
    "    # 'USER_AUTHENTICATION_RULE': 'rest_framework_simplejwt.authentication.default_user_authentication_rule',\n",
    "\n",
    "    # 'AUTH_TOKEN_CLASSES': ('rest_framework_simplejwt.tokens.AccessToken',),\n",
    "    # 'TOKEN_TYPE_CLAIM': 'token_type',  # 用于存储token类型的声明名称\n",
    "\n",
    "    # 'JTI_CLAIM': 'jti',  # 用于存储令牌的唯一标识符的声明名称\n",
    "\n",
    "    # 'SLIDING_TOKEN_REFRESH_EXP_CLAIM': 'refresh_exp',\n",
    "    # 'SLIDING_TOKEN_LIFETIME': timedelta(minutes=5),\n",
    "    # 'SLIDING_TOKEN_REFRESH_LIFETIME': timedelta(days=1),\n",
    "}\n",
    "#身份验证，全局设置\n",
    "AUTHENTICATION_BACKENDS=[\n",
    "    'common.authentication.Authentication'\n",
    "]\n",
    "\n",
    "#文件上传路径\n",
    "MEDIA_ROOT=BASE_DIR/'file/image/'\n",
    "#文件获取的url路径\n",
    "MEDIA_URL='file/image/'\n",
    "\n",
    "PERMISSION_SESSION_KEY='per'\n",
    "\n",
    "WHITF_LIST=[\n",
    "    '^/users/login/$',\n",
    "    '^/admin/.*$',\n",
    "    '^/reg/$',\n",
    "]\n"
   ]
  },
  {
   "cell_type": "code",
   "execution_count": null,
   "metadata": {},
   "outputs": [],
   "source": [
    "#common.db.py\n",
    "from django.db import models\n",
    "\n",
    "class BaseModel(models.Model):\n",
    "    create_time=models.DateTimeField(verbose_name='创建时间',auto_now_add=True)\n",
    "    update_time=models.DateTimeField(verbose_name='更新时间',auto_now=True)\n",
    "    is_delete=models.BooleanField(verbose_name='删除标记',default=False)\n",
    "\n",
    "    class Meta:\n",
    "        abstract=True\n",
    "        verbose_name_plural='公共字段表'\n",
    "        db_table='BaseTable'"
   ]
  },
  {
   "cell_type": "code",
   "execution_count": null,
   "metadata": {},
   "outputs": [],
   "source": [
    "#common.views.py\n",
    "from rest_framework.views import APIView\n",
    "\n",
    "class NbApiView(APIView):\n",
    "    def check_permissions(self, request):\n",
    "        no_permission_objects=[]\n",
    "        for permission in self.get_permissions():\n",
    "            if permission.has_permission(request,self):\n",
    "                return\n",
    "            else:\n",
    "                no_permission_objects.append(permission)\n",
    "        else:\n",
    "            self.permission_denied(\n",
    "                request,\n",
    "                message=getattr(no_permission_objects[0],'message',None),\n",
    "                code=getattr(no_permission_objects[0],'code',None)\n",
    "            )\n",
    "        "
   ]
  },
  {
   "cell_type": "code",
   "execution_count": null,
   "metadata": {},
   "outputs": [],
   "source": [
    "#common.authentication.py\n",
    "from typing import Any\n",
    "from django.contrib.auth.backends import ModelBackend\n",
    "from users.models import User\n",
    "from django.db.models import Q\n",
    "from rest_framework import serializers\n",
    "\n",
    "class Authentication(ModelBackend):\n",
    "    def authenticate(self, request, username=None , password=None, **kwargs: Any):\n",
    "        \n",
    "        try:\n",
    "            user=User.objects.get(Q(username=username)|Q(mobile=username)|Q(email=username))\n",
    "        except:\n",
    "            raise serializers.ValidationError({\"erroe\":\"未找到用户\"})\n",
    "        if user.check_password(password):\n",
    "            return user\n",
    "        else:\n",
    "            raise serializers.ValidationError({\"erroe\":\"密码错误\"})\n"
   ]
  },
  {
   "cell_type": "markdown",
   "metadata": {},
   "source": [
    "数据库迁移命令"
   ]
  },
  {
   "cell_type": "code",
   "execution_count": null,
   "metadata": {
    "vscode": {
     "languageId": "powershell"
    }
   },
   "outputs": [],
   "source": [
    "python manage.py makemigrations\n",
    "python manage.py migrate"
   ]
  },
  {
   "attachments": {},
   "cell_type": "markdown",
   "metadata": {},
   "source": [
    "创建管理员"
   ]
  },
  {
   "cell_type": "code",
   "execution_count": null,
   "metadata": {
    "vscode": {
     "languageId": "powershell"
    }
   },
   "outputs": [],
   "source": [
    "python manage.py createsuperuser"
   ]
  },
  {
   "cell_type": "code",
   "execution_count": null,
   "metadata": {},
   "outputs": [],
   "source": [
    "#mywebsite01.urls.py\n",
    "\"\"\"\n",
    "URL configuration for mysite01 project.\n",
    "\n",
    "The `urlpatterns` list routes URLs to views. For more information please see:\n",
    "    https://docs.djangoproject.com/en/4.2/topics/http/urls/\n",
    "Examples:\n",
    "Function views\n",
    "    1. Add an import:  from my_app import views\n",
    "    2. Add a URL to urlpatterns:  path('', views.home, name='home')\n",
    "Class-based views\n",
    "    1. Add an import:  from other_app.views import Home\n",
    "    2. Add a URL to urlpatterns:  path('', Home.as_view(), name='home')\n",
    "Including another URLconf\n",
    "    1. Import the include() function: from django.urls import include, path\n",
    "    2. Add a URL to urlpatterns:  path('blog/', include('blog.urls'))\n",
    "\"\"\"\n",
    "from django.contrib import admin\n",
    "from django.urls import include, path, re_path\n",
    "\n",
    "from users.views import FileView\n",
    "\n",
    "urlpatterns = [\n",
    "    path('admin/', admin.site.urls),\n",
    "    path('users/', include('users.urls')),\n",
    "    re_path('file/image/(.+?)/', FileView.as_view()),\n",
    "    path('statements/', include('statements.urls')),\n",
    "]\n"
   ]
  },
  {
   "cell_type": "code",
   "execution_count": null,
   "metadata": {},
   "outputs": [],
   "source": [
    "#users.urls.py\n",
    "from django.urls import path\n",
    "from users import views\n",
    "from rest_framework_simplejwt.views import TokenRefreshView,TokenVerifyView\n",
    "\n",
    "urlpatterns = [\n",
    "    path('login/', views.LoginView.as_view()),\n",
    "    path('register/', views.RegisterViews.as_view()),\n",
    "    path('token/refresh/',TokenRefreshView.as_view()),\n",
    "    path('token/verify/',TokenVerifyView.as_view()),\n",
    "    path('users/<int:pk>/',views.UserView.as_view({'get': 'retrieve'})),\n",
    "    path('<int:pk>/name/',views.UserView.as_view({'put': 'update_name'})),\n",
    "    path('<int:pk>/email/',views.UserView.as_view({'put': 'update_email'})),\n",
    "    path('<int:pk>/password/',views.UserView.as_view({'put': 'update_password'})),\n",
    "    # path('address/',views.addrview.as_view({'post':'coreate','get':'list'}))\n",
    "    # path('address/<int:pk>/',views.addrview.as_view({'put':'destroy','delete':'update'}))\n",
    "\n",
    "\n",
    "]"
   ]
  },
  {
   "cell_type": "code",
   "execution_count": null,
   "metadata": {},
   "outputs": [],
   "source": [
    "#users.vises.py\n",
    "import os\n",
    "import re\n",
    "from django.http import FileResponse\n",
    "from django.shortcuts import render\n",
    "from rest_framework import mixins\n",
    "from rest_framework.response import Response\n",
    "from rest_framework_simplejwt.views import TokenObtainPairView\n",
    "from rest_framework_simplejwt.exceptions import TokenError,InvalidToken,status\n",
    "from rest_framework.views import APIView\n",
    "from rest_framework.viewsets import ModelViewSet,GenericViewSet\n",
    "from common.views import NbApiView\n",
    "from mysite01 import settings\n",
    "from mysite01.settings import MEDIA_ROOT\n",
    "from users.models import User\n",
    "from users.permissions import UserPermissixon,RabcPermissixon\n",
    "from users.serializers import UserSerializer\n",
    "from rest_framework.permissions import IsAuthenticated\n",
    "\n",
    "\n",
    "# Create your views here.\n",
    "\n",
    "class RegisterViews(APIView):\n",
    "    def post(self,request):\n",
    "        username=request.data.get('username')\n",
    "        password=request.data.get('password')\n",
    "        email=request.data.get('email')\n",
    "        password_confirmation=request.data.get('password_confirmation')\n",
    "        if not all([username,password,email,password_confirmation]):\n",
    "            return Response({'error':'参数不能为空'},status=status.HTTP_400_BAD_REQUEST)\n",
    "        if User.objects.filter(username=username).exists():\n",
    "            return Response({'error':'用户名已存在'},status=status.HTTP_400_BAD_REQUEST)\n",
    "        if password!=password_confirmation:\n",
    "            return Response({'error':'两次密码不一致'},status=status.HTTP_400_BAD_REQUEST)\n",
    "        if not(6<=len(password)<=18):\n",
    "            return Response({'error':'密码长度应在6至18直接'},status=status.HTTP_400_BAD_REQUEST)\n",
    "        if User.objects.filter(email=email).exists():\n",
    "            return Response({'error':'该邮箱已被其他用户使用'},status=status.HTTP_400_BAD_REQUEST)\n",
    "        # if not re.match(r'^[a-z0-9][\\w.\\-]*@[a-z0-9\\-]+(\\.[a-z]{2,5}{1,2}$)',email):\n",
    "        if not re.match(r'([A-Za-z0-9]+[.-_])*[A-Za-z0-9]+@[A-Za-z0-9-]+(\\.[A-Z|a-z]{2,})+',email):\n",
    "            return Response({'error':'邮箱格式有误'},status=status.HTTP_400_BAD_REQUEST)\n",
    "        obj=User.objects.create_user(username=username,email=email,password=password)\n",
    "        res={'username':obj.username,'id':obj.id,'email':obj.email}\n",
    "        return Response(res,status=status.HTTP_201_CREATED)\n",
    "\n",
    "\n",
    "class LoginView(TokenObtainPairView):\n",
    "    def post(self, request, *args, **kwargs):\n",
    "        serializer=self.get_serializer(data=request.data)\n",
    "        try:\n",
    "            serializer.is_valid(raise_exception=True)\n",
    "        except TokenError as e:\n",
    "            raise InvalidToken(e.args[0])\n",
    "        result=serializer.validated_data\n",
    "        result['id']=serializer.user.id\n",
    "        result['username']=serializer.user.username\n",
    "        result['last_name']=serializer.user.last_name\n",
    "        result['is_superuser']=serializer.user.is_superuser\n",
    "        result['mobile']=serializer.user.mobile\n",
    "        result['email']=serializer.user.email\n",
    "        result['token']=result.pop('access')\n",
    "        return Response(result,status=status.HTTP_200_OK)\n",
    "    \n",
    "\n",
    "#用户表视图，身份验证，权限\n",
    "class UserView(GenericViewSet,mixins.RetrieveModelMixin):\n",
    "    queryset=User.objects.all()\n",
    "    serializer_class=UserSerializer\n",
    "    permission_classes=[IsAuthenticated,UserPermissixon]\n",
    "\n",
    "    #文件上传\n",
    "    def upload_avatar(self,request,*args,**kwargs):\n",
    "        user=self.get_object()\n",
    "        avatar=request.data.get('avatar')\n",
    "        if not avatar:\n",
    "            return Response({'error':'上传失败，文件不能为空'},status=status.HTTP_400_BAD_REQUEST)\n",
    "        if avatar.size>1024*300:\n",
    "            return Response({'error':'上传失败，文件大小不能超过300kb'},status=status.HTTP_400_BAD_REQUEST)\n",
    "        serializer=self.get_serializer(user,data={'avatar':avatar},partial=True)\n",
    "        serializer.is_valid(raise_exception=True)\n",
    "        serializer.save()\n",
    "        return Response({'url':serializer.data['avatar']})\n",
    "\n",
    "    def update_name(self,request,*args,**kwargs):\n",
    "        last_name=request.data.get('last_name')\n",
    "        if not last_name:\n",
    "            return Response({'error':'请输入昵称'},status=status.HTTP_422_UNPROCESSABLE_ENTITY)\n",
    "        user=self.get_object()\n",
    "        print(user)\n",
    "        user.last_name=last_name\n",
    "        user.save()\n",
    "        return Response({'msssage':'昵称修改成功'},status=status.HTTP_200_OK)\n",
    "\n",
    "    def update_email(self,request,*args,**kwargs):\n",
    "        email=request.data.get('email')\n",
    "        user=self.get_object()\n",
    "        if not email:\n",
    "            return Response({'error':'请输入邮箱'},status=status.HTTP_422_UNPROCESSABLE_ENTITY)\n",
    "        if not re.match(r'([A-Za-z0-9]+[.-_])*[A-Za-z0-9]+@[A-Za-z0-9-]+(\\.[A-Z|a-z]{2,})+',email):\n",
    "            return Response({'error':'邮箱格式不正确'},status=status.HTTP_422_UNPROCESSABLE_ENTITY)\n",
    "        if user.email==email:\n",
    "            return Response({'message':'与原邮箱一致'},status=status.HTTP_200_OK)\n",
    "        if User.objects.filter(email=email).exists():\n",
    "            return Response({'error':'邮箱已存在，更换邮箱'},status=status.HTTP_422_UNPROCESSABLE_ENTITY)\n",
    "        user.email=email\n",
    "        user.save()\n",
    "        return Response({'message':'邮箱修改成功'},status=status.HTTP_200_OK)\n",
    "\n",
    "    def update_password(self,request,*args,**kwargs):\n",
    "        user=self.get_object()\n",
    "        password=request.data.get('password')\n",
    "        password_confirmation=request.data.get('password_confirmation')\n",
    "        if not password:\n",
    "            return Response({'error':'密码不能为空'},status=status.HTTP_422_UNPROCESSABLE_ENTITY)\n",
    "        if password!=password_confirmation:\n",
    "            return Response({'error':'两次密码不一致'},status=status.HTTP_422_UNPROCESSABLE_ENTITY)\n",
    "        if not(6<=len(password)<=18):\n",
    "            return Response({'error':'密码长度不能小于6大于18位'},status=status.HTTP_422_UNPROCESSABLE_ENTITY)\n",
    "        user.set_password(password)\n",
    "        user.save()\n",
    "        return Response({'message':'密码修改成功'},status=status.HTTP_200_OK)\n",
    "\n",
    "\n",
    "\n",
    "\n",
    "\n",
    "\n",
    "# #查看图片\n",
    "# class FileView(APIView):\n",
    "#     permission_classes=[RabcPermissixon]\n",
    "#     def get(self,requests,name):\n",
    "#         path=MEDIA_ROOT/name\n",
    "#         if os.path.isfile(path):\n",
    "#             return FileResponse(open(path,'rb'))\n",
    "#         return Response({'code':\"没有此图片\"},status=status.HTTP_404_NOT_FOUND)\n",
    "#查看图片\n",
    "class FileView(NbApiView):\n",
    "    permission_classes=[RabcPermissixon]\n",
    "    def get(self,requests,name):\n",
    "        path=MEDIA_ROOT/name\n",
    "        if os.path.isfile(path):\n",
    "            return FileResponse(open(path,'rb'))\n",
    "        return Response({'code':\"没有此图片\"},status=status.HTTP_404_NOT_FOUND)\n",
    "\n"
   ]
  },
  {
   "cell_type": "markdown",
   "metadata": {},
   "source": [
    "多字段登录,配置settings\n"
   ]
  },
  {
   "cell_type": "code",
   "execution_count": null,
   "metadata": {},
   "outputs": [],
   "source": [
    "#settings.py\n",
    "#身份验证，全局设置\n",
    "AUTHENTICATION_BACKENDS=[\n",
    "    'common.authentication.Authentication'\n",
    "]"
   ]
  },
  {
   "cell_type": "code",
   "execution_count": null,
   "metadata": {},
   "outputs": [],
   "source": [
    "#users.serializers.py\n",
    "from rest_framework import serializers\n",
    "from users.models import User\n",
    "\n",
    "\"\"\"\n",
    "user表序列化\n",
    "\"\"\"\n",
    "class UserSerializer(serializers.ModelSerializer):\n",
    "    class Meta:\n",
    "        model=User\n",
    "        # fields='__all__'\n",
    "        fields=['id','username','email','mobile','avatar','last_name']\n",
    "    "
   ]
  },
  {
   "cell_type": "code",
   "execution_count": null,
   "metadata": {},
   "outputs": [],
   "source": [
    "# users.permissions.py\n",
    "from users.models import User\n",
    "from rest_framework_simplejwt.backends import TokenBackend\n",
    "from rest_framework import permissions\n",
    "from django.conf import settings\n",
    "import re\n",
    "\n",
    "\"\"\"\n",
    "用户对user表的数据权限\n",
    "\"\"\"\n",
    "\n",
    "class UserPermissixon(permissions.BasePermission):\n",
    "\n",
    "    def has_object_permission(self, request, view, obj):\n",
    "        if request.user.is_superuser:\n",
    "            return True\n",
    "        return obj == request.user\n",
    "\n",
    "\n",
    "# https://www.cnblogs.com/xiao-xue-di/p/9913104.html\n",
    "\n",
    "\n",
    "# class RabcMiddleware(MiddlewareMixin):\n",
    "    # def process_request(self, request):\n",
    "class RabcPermissixon(permissions.BasePermission):\n",
    "    message={'msg':'没有权限，联系管理员'}\n",
    "    def has_permission(self, request, view):\n",
    "        url = request.path_info\n",
    "        for i in settings.WHITF_LIST:\n",
    "            if re.match(i, url):\n",
    "                return True\n",
    "        token = request.META.get('HTTP_AUTHORIZATION', \" \").split(' ')[1]\n",
    "        try:\n",
    "            valid_data = TokenBackend(\n",
    "                algorithm='HS256').decode(token, verify=False)\n",
    "            request.user.id = valid_data['user_id']\n",
    "        except Exception as v:\n",
    "            print(\"validation error\", v)\n",
    "        obj = User.objects.filter(id=request.user.id).first()\n",
    "        try:\n",
    "            ret = obj.roles.all().filter(permissions__url__isnull=False).values(\n",
    "                'permissions__url', 'permissions__title',).distinct()\n",
    "        except Exception as e:\n",
    "            print('没权限', e)\n",
    "        if obj.is_superuser:\n",
    "            return True\n",
    "        for i in ret:\n",
    "            if re.match(r\"^{}\".format(i['permissions__url']), url):\n",
    "                # print(33333)\n",
    "                return True\n",
    "        # return HttpResponse('没有权限，联系管理员')\n",
    "        return False\n"
   ]
  },
  {
   "cell_type": "code",
   "execution_count": null,
   "metadata": {},
   "outputs": [],
   "source": [
    "# users.models.py\n",
    "from django.db import models\n",
    "from django.contrib.auth.models import AbstractUser\n",
    "from common.db import BaseModel\n",
    "# Create your models here.\n",
    "\n",
    "class User(AbstractUser,BaseModel):\n",
    "    mobile=models.CharField(verbose_name='手机号',help_text='手机号',max_length=11,default='',blank=True)\n",
    "    avatar=models.ImageField(verbose_name='头像url',help_text='头像',max_length=30,default='',blank=True)\n",
    "    roles=models.ManyToManyField(verbose_name='角色',to='Role',blank=True)\n",
    "\n",
    "    class Meta:\n",
    "        verbose_name_plural='用户表'\n",
    "        db_table='users'\n",
    "\n",
    "class Role(models.Model):\n",
    "    #角色表\n",
    "    title=models.CharField(max_length=32)\n",
    "    permissions=models.ManyToManyField(verbose_name='权限',to='Permission',blank=True)\n",
    "\n",
    "    class Meta:\n",
    "        verbose_name_plural='角色表'\n",
    "\n",
    "    def __str__(self):\n",
    "        return self.title\n",
    "\n",
    "class Permission(models.Model):\n",
    "    #权限iao\n",
    "    title=models.CharField(verbose_name='标题',max_length=32)\n",
    "    url=models.CharField(verbose_name='含正则URL权限',max_length=64)\n",
    "    # is_menu=models.BooleanField(verbose_name='是否是菜单')\n",
    "    # code=models.CharField(verbose_name='增删改查权限',max_length=32)\n",
    "    # routers=models.ForeignKey(verbose_name='路径id',to='Routerinfo',on_delete=models.CASCADE,default=None,null=True)\n",
    "    \n",
    "    class Meta:\n",
    "        verbose_name_plural='权限表'\n",
    "    def __str__(self):\n",
    "        return self.title\n",
    "    \n"
   ]
  },
  {
   "cell_type": "code",
   "execution_count": null,
   "metadata": {},
   "outputs": [],
   "source": [
    "#users.admin.py 注册\n",
    "#https://blog.csdn.net/weixin_43063753/article/details/85255907\n",
    "\n",
    "from django.contrib import admin\n",
    "from users import models\n",
    "# Register your models here.\n",
    "\n",
    "class PermissionModelAdmin(admin.ModelAdmin):\n",
    "    list_display=['title','url']\n",
    "    list_editable=['url']\n",
    "\n",
    "\n",
    "\n",
    "admin.site.register(models.Permission,PermissionModelAdmin)\n",
    "admin.site.register(models.Role)\n",
    "admin.site.register(models.User)\n"
   ]
  },
  {
   "cell_type": "code",
   "execution_count": null,
   "metadata": {},
   "outputs": [],
   "source": [
    "#statements.views.py\n",
    "from django.shortcuts import render\n",
    "from rest_framework import viewsets\n",
    "from statements.serializers import ItemSerializer,TaxEstiamteSerializer\n",
    "from statements.models import ItemInfo,TaxEstimate\n",
    "from rest_framework.permissions import IsAuthenticated\n",
    "from users.permissions import UserPermissixon,RabcPermissixon\n",
    "# Create your views here.\n",
    "\n",
    "class ItemViewsSet(viewsets.ModelViewSet):\n",
    "    queryset = ItemInfo.objects.all()\n",
    "    serializer_class = ItemSerializer\n",
    "    permission_classes=[IsAuthenticated,RabcPermissixon]\n",
    "\n",
    "class TaxEstiamteViewsSet(viewsets.ModelViewSet):\n",
    "    queryset = TaxEstimate.objects.all()\n",
    "    serializer_class = TaxEstiamteSerializer\n",
    "    permission_classes=[IsAuthenticated,RabcPermissixon]\n"
   ]
  },
  {
   "cell_type": "code",
   "execution_count": null,
   "metadata": {},
   "outputs": [],
   "source": [
    "#statements.urls.py\n",
    "from . import views\n",
    "from rest_framework.routers import DefaultRouter\n",
    "\n",
    "# 路由列表\n",
    "urlpatterns = []\n",
    "\n",
    "router = DefaultRouter()  # 可以处理视图的路由器\n",
    "router.register('items', views.ItemViewsSet)  # 向路由器中注册视图集\n",
    "router.register('taxestiamtes', views.TaxEstiamteViewsSet)  # 向路由器中注册视图集\n",
    "\n",
    "\n",
    "urlpatterns += router.urls  # 将路由器中的所以路由信息追到到django的路由列表中"
   ]
  },
  {
   "cell_type": "code",
   "execution_count": null,
   "metadata": {},
   "outputs": [],
   "source": [
    "#statements.serializers.py\n",
    "from rest_framework import serializers\n",
    "from statements.models import ItemInfo,TaxEstimate\n",
    "\n",
    "\n",
    "class ItemSerializer(serializers.ModelSerializer):\n",
    "    class Meta:\n",
    "        model=ItemInfo\n",
    "        fields='__all__'\n",
    "        # fields=['id','username','email','mobile','avatar','last_name','roles','is_superuser']\n",
    "        \n",
    "class TaxEstiamteSerializer(serializers.ModelSerializer):\n",
    "    class Meta:\n",
    "        model=TaxEstimate\n",
    "        fields='__all__'\n",
    "        # fields=['id','username','email','mobile','avatar','last_name','roles','is_superuser']"
   ]
  },
  {
   "cell_type": "code",
   "execution_count": null,
   "metadata": {},
   "outputs": [],
   "source": [
    "#statements.models.py\n",
    "from django.db import models\n",
    "\n",
    "# Create your models here.\n",
    "class TaxEstimate(models.Model):\n",
    "    #纳税预计\n",
    "    date=models.DateField(verbose_name='期间')\n",
    "    items=models.ForeignKey('ItemInfo',on_delete=models.CASCADE)\n",
    "    quantity=models.FloatField(verbose_name='数量',default='',blank=True)\n",
    "    amount=models.FloatField(verbose_name='金额',blank=True)\n",
    "    taxes=models.FloatField(verbose_name='税额',blank=True)\n",
    "\n",
    "    class Meta:\n",
    "        verbose_name_plural='纳税预计'\n",
    "\n",
    "    def __str__(self):\n",
    "        return self.date\n",
    "    \n",
    "class ItemInfo(models.Model):\n",
    "    #报表项目\n",
    "    item_code=models.IntegerField(verbose_name='编码',help_text='编码')\n",
    "    title=models.CharField(verbose_name='项目名',help_text='项目名',max_length=32)\n",
    "    category=models.CharField(verbose_name='类别',help_text='类别',max_length=32)\n",
    "    class Meta:\n",
    "        verbose_name_plural='报表项目'\n",
    "\n",
    "    def __str__(self):\n",
    "        return self.title"
   ]
  }
 ],
 "metadata": {
  "language_info": {
   "name": "python"
  },
  "orig_nbformat": 4
 },
 "nbformat": 4,
 "nbformat_minor": 2
}
